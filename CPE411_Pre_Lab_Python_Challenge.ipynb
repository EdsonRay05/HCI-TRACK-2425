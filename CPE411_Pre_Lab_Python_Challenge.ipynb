{
  "nbformat": 4,
  "nbformat_minor": 0,
  "metadata": {
    "kernelspec": {
      "display_name": "Python 3",
      "language": "python",
      "name": "python3"
    },
    "language_info": {
      "codemirror_mode": {
        "name": "ipython",
        "version": 3
      },
      "file_extension": ".py",
      "mimetype": "text/x-python",
      "name": "python",
      "nbconvert_exporter": "python",
      "pygments_lexer": "ipython3",
      "version": "3.7.7"
    },
    "colab": {
      "provenance": [],
      "include_colab_link": true
    },
    "accelerator": "GPU"
  },
  "cells": [
    {
      "cell_type": "markdown",
      "metadata": {
        "id": "view-in-github",
        "colab_type": "text"
      },
      "source": [
        "<a href=\"https://colab.research.google.com/github/EdsonRay05/HCI-TRACK-2425/blob/main/CPE411_Pre_Lab_Python_Challenge.ipynb\" target=\"_parent\"><img src=\"https://colab.research.google.com/assets/colab-badge.svg\" alt=\"Open In Colab\"/></a>"
      ]
    },
    {
      "cell_type": "markdown",
      "metadata": {
        "id": "WUQHSYAH8A15"
      },
      "source": [
        "\n",
        "| <h1> Activity 1.1 </h1> | <h1> Python Challenge </h1> |\n",
        "|--- | --- |\n",
        "Name: Edson Ray E. San Juan\n",
        "Course and Section: CPE22S4\n",
        "Date Submitted: 01/21/2025\n",
        "Instructor: Engr. Roman M. Richard\n",
        "Date Performed: 01/21/2025\n",
        "Date Submitted: 01/21/2025\n",
        "\n",
        "<hr>\n",
        "\n",
        "**Instructions**: Answer the questions or complete the tasks outlined below, use the specific method described if applicable. Insert a code cell after each text cell.\n",
        "\n",
        "**Objectives:**\n",
        "- Test understanding of Python basics\n",
        "- Review Python basic to intermediate commands\n",
        "\n",
        "<hr>"
      ]
    },
    {
      "cell_type": "markdown",
      "metadata": {
        "id": "-7dT6HEt8A1_"
      },
      "source": [
        "1. What is 3 to the power of 5?"
      ]
    },
    {
      "cell_type": "code",
      "source": [
        "243"
      ],
      "metadata": {
        "id": "CiAIi_wlM23B"
      },
      "execution_count": null,
      "outputs": []
    },
    {
      "cell_type": "markdown",
      "metadata": {
        "id": "TpUg2QaM8A2C"
      },
      "source": [
        "2.  Create a variable, s, containing the string \"This course is amazing!\". Using the variable, split the string into a list."
      ]
    },
    {
      "cell_type": "code",
      "source": [
        "s = \"This course is amazing\"\n",
        "var = s.split()\n",
        "print(var)"
      ],
      "metadata": {
        "id": "AmSwowsTCUwA",
        "outputId": "31ebb3b5-3180-444d-e7ea-c10565fd581f",
        "colab": {
          "base_uri": "https://localhost:8080/"
        }
      },
      "execution_count": null,
      "outputs": [
        {
          "output_type": "stream",
          "name": "stdout",
          "text": [
            "['This', 'course', 'is', 'amazing']\n"
          ]
        }
      ]
    },
    {
      "cell_type": "markdown",
      "metadata": {
        "id": "B3yPY5pD8A2D"
      },
      "source": [
        "3.  Given the variables height and mountain, use .format() to print the following string:\n",
        "`The height of Mt. Everest is 8848 meters.`"
      ]
    },
    {
      "cell_type": "code",
      "source": [
        "h = 'height'\n",
        "m = 'Mt. Everest'\n",
        "var = f\"The {h} of the {m} is 8848\".format()\n",
        "print(var)"
      ],
      "metadata": {
        "id": "AEUyAat6LgfC",
        "outputId": "048c01fe-5699-4807-984e-28c7e43edb58",
        "colab": {
          "base_uri": "https://localhost:8080/"
        }
      },
      "execution_count": null,
      "outputs": [
        {
          "output_type": "stream",
          "name": "stdout",
          "text": [
            "The height of the Mt. Everest is 8848\n"
          ]
        }
      ]
    },
    {
      "cell_type": "markdown",
      "metadata": {
        "id": "WPFy00ne8A2F"
      },
      "source": [
        "4. Given the following nested list, use indexing to grab the word \"this\".\n",
        "\n",
        "```\n",
        "lst = ['a','b',[4,10,11],['c',[1,66,['this']],2,111],'e',7]\n",
        "```"
      ]
    },
    {
      "cell_type": "code",
      "source": [
        "lst = ['a', 'b', [4, 10, 11], ['c', [1, 66, ['this']], 2, 111], 'e', 7]\n",
        "\n",
        "word = lst[3][1][2][0]\n",
        "print(word)"
      ],
      "metadata": {
        "id": "fwLJcOquLhbZ",
        "outputId": "59ea84a1-5223-49bc-e496-b37dab7d4421",
        "colab": {
          "base_uri": "https://localhost:8080/"
        }
      },
      "execution_count": 1,
      "outputs": [
        {
          "output_type": "stream",
          "name": "stdout",
          "text": [
            "this\n"
          ]
        }
      ]
    },
    {
      "cell_type": "markdown",
      "metadata": {
        "id": "cUA9kmWi8A2H"
      },
      "source": [
        "5. Given the following nested dictionary, grab the word \"that\". This exercise is a little more difficult.\n",
        "```\n",
        "d = {'k1':['val1','val2','val3',{'we':['need','to','go',{'deeper':[1,2,3,'that']}]}]}\n",
        "```"
      ]
    },
    {
      "cell_type": "code",
      "source": [
        "d = {'k1': ['val1', 'val2', 'val3', {'we': ['need', 'to', 'go', {'deeper': [1, 2, 3, 'that']}]}]}\n",
        "\n",
        "word = d['k1'][3]['we'][3]['deeper'][3]\n",
        "print(word)"
      ],
      "metadata": {
        "id": "Qk1nePu6Lh67",
        "outputId": "aa3401e1-7e3c-4c69-bcaa-fa2a8e5e9f1b",
        "colab": {
          "base_uri": "https://localhost:8080/"
        }
      },
      "execution_count": 2,
      "outputs": [
        {
          "output_type": "stream",
          "name": "stdout",
          "text": [
            "that\n"
          ]
        }
      ]
    },
    {
      "cell_type": "markdown",
      "metadata": {
        "id": "-WrAu-KK8A2I"
      },
      "source": [
        "6. Create a function, GetDomain(), that grabs the email website domain from a string in the form: user@domain.com.\n",
        "So for example, passing \"user@domain.com\" would return: domain.com"
      ]
    },
    {
      "cell_type": "code",
      "source": [
        "def GetDomain():\n",
        "  email = 'user@domain.com'\n",
        "  domain = email.split('@')[1]\n",
        "  print(domain)\n",
        "\n",
        "GetDomain()"
      ],
      "metadata": {
        "id": "oK9GYWo7LiE0",
        "outputId": "a79b09da-df8c-4ff4-ec70-0f6186132b79",
        "colab": {
          "base_uri": "https://localhost:8080/"
        }
      },
      "execution_count": 3,
      "outputs": [
        {
          "output_type": "stream",
          "name": "stdout",
          "text": [
            "domain.com\n"
          ]
        }
      ]
    },
    {
      "cell_type": "markdown",
      "metadata": {
        "id": "Fx4DIIz18A2K"
      },
      "source": [
        "7. Create a basic function, findInternet(), that returns True if the word 'Internet' is contained in the input string. Don't worry about edge cases like punctuation being attached to the word, but account for capitalization. (Hint: Please see https://docs.python.org/2/reference/expressions.html#in)"
      ]
    },
    {
      "cell_type": "code",
      "source": [
        "\n",
        "def findInternet():\n",
        "  inputs = input(\"Type to word Internet\")\n",
        "  if 'Internet' or 'internet' in inputs:\n",
        "    return True\n",
        "  else:\n",
        "    return False\n",
        "if findInternet():\n",
        "  print(\"correct\")\n",
        "else:\n",
        "  print(\"incorrect\")"
      ],
      "metadata": {
        "id": "a6YVax3wLit8",
        "outputId": "2b452953-743a-40a6-efcf-8b5b61c86f26",
        "colab": {
          "base_uri": "https://localhost:8080/"
        }
      },
      "execution_count": 9,
      "outputs": [
        {
          "output_type": "stream",
          "name": "stdout",
          "text": [
            "Type to word Internetinternet\n",
            "correct\n"
          ]
        }
      ]
    },
    {
      "cell_type": "markdown",
      "metadata": {
        "id": "4pPortmo8A2M"
      },
      "source": [
        "8. Create a function, countIoT(), that counts the number of times the word \"IoT\" occurs in a string. Ignore edge cases but take into account capitalization."
      ]
    },
    {
      "cell_type": "code",
      "source": [
        "def countIoT(sentence):\n",
        "    words = sentence.lower().split()\n",
        "    return words.count(\"iot\")\n",
        "\n",
        "write_sentence = input(\"Write something: \")\n",
        "result = countIoT(write_sentence)\n",
        "print(result)"
      ],
      "metadata": {
        "id": "WpiXr1LhLjBN",
        "outputId": "e318106f-cf29-4e77-e676-c21e60432bec",
        "colab": {
          "base_uri": "https://localhost:8080/"
        }
      },
      "execution_count": 17,
      "outputs": [
        {
          "output_type": "stream",
          "name": "stdout",
          "text": [
            "Write something: ioT\n",
            "1\n"
          ]
        }
      ]
    },
    {
      "cell_type": "markdown",
      "metadata": {
        "id": "Hg-mqSUd8A2O"
      },
      "source": [
        "9. Use lambda expressions and the filter() function to filter out words from a list that do not start with the letter 'd'. For example:\n",
        "```\n",
        "seq = ['data','salt' ,'dairy','cat', 'dog']\n",
        "```\n",
        "should be filtered down to:\n",
        "```\n",
        "['data', 'dairy', 'dog']\n",
        "```"
      ]
    },
    {
      "cell_type": "code",
      "source": [
        "seq = ['data', 'salt', 'dairy', 'cat', 'dog']\n",
        "\n",
        "# Use filter and a lambda expression to exclude words starting with 'd'\n",
        "filtered = list(filter(lambda word: word.startswith('d'), seq))\n",
        "\n",
        "print(filtered)\n"
      ],
      "metadata": {
        "id": "CCU5G6uQLjzO",
        "outputId": "dcb603ef-c474-4aea-fb56-878da37aa580",
        "colab": {
          "base_uri": "https://localhost:8080/"
        }
      },
      "execution_count": 19,
      "outputs": [
        {
          "output_type": "stream",
          "name": "stdout",
          "text": [
            "['data', 'dairy', 'dog']\n"
          ]
        }
      ]
    },
    {
      "cell_type": "markdown",
      "metadata": {
        "id": "i5HTJZtM8A2O"
      },
      "source": [
        "10. Use lambda expressions and the map() function to convert a list of words to upper case. For example:\n",
        "```\n",
        "seq = ['data','salt' ,'dairy','cat', 'dog']\n",
        "```\n",
        "should become:\n",
        "```\n",
        "['DATA', 'SALT', 'DAIRY', 'CAT', 'DOG']\n",
        "```"
      ]
    },
    {
      "cell_type": "code",
      "source": [
        "seq = ['data','salt' ,'dairy','cat', 'dog']\n",
        "\n",
        "# use map with lambda to convert each word to upper case\n",
        "uppercase_words = list(map(lambda word: word.upper(), seq))\n",
        "print(uppercase_words)"
      ],
      "metadata": {
        "id": "yF7YxT0QLkJ5",
        "outputId": "1dfb4297-4921-4dff-e4ef-c50a4c334d4e",
        "colab": {
          "base_uri": "https://localhost:8080/"
        }
      },
      "execution_count": 20,
      "outputs": [
        {
          "output_type": "stream",
          "name": "stdout",
          "text": [
            "['DATA', 'SALT', 'DAIRY', 'CAT', 'DOG']\n"
          ]
        }
      ]
    },
    {
      "cell_type": "markdown",
      "metadata": {
        "id": "1t6lwmWv8A2Q"
      },
      "source": [
        "11. Imagine a smart thermostat that is connected to the door, so that it can detect, in addition to the temperature, when people enter or leave the house. <br><br>Write a function that, if the temperature is lower than 20 degrees Celsius, and there are people in the house (encoded as a boolean value to be passed as a parameter to the function), turns on the heating by returning the string \"Heating on\". When the temperature reaches 23 degrees or there are no people in the house, it returns the string \"Heating off\". When none of these conditions are met, the function returns \"Do nothing\"."
      ]
    },
    {
      "cell_type": "code",
      "source": [
        "def control_Heating(temperature, has_People):\n",
        "  if temperature < 20 and has_People:\n",
        "    return \"Heating on\"\n",
        "  elif temperature >= 23 or not has_People:\n",
        "    return \"Heating off\"\n",
        "  else:\n",
        "    return \"Do nothing\"\n",
        "#Example\n",
        "print(control_Heating(19, False))\n",
        "print(control_Heating(23, True))\n",
        "print(control_Heating(21, True))\n",
        "print(control_Heating(21, False))\n",
        "print(control_Heating(20, True))"
      ],
      "metadata": {
        "id": "R3scWYwqLkxu",
        "outputId": "a6f6e55e-623e-41d7-a1b2-0afec54afba5",
        "colab": {
          "base_uri": "https://localhost:8080/"
        }
      },
      "execution_count": 29,
      "outputs": [
        {
          "output_type": "stream",
          "name": "stdout",
          "text": [
            "Heating off\n",
            "Heating off\n",
            "Do nothing\n",
            "Heating off\n",
            "Do nothing\n"
          ]
        }
      ]
    },
    {
      "cell_type": "markdown",
      "metadata": {
        "id": "HvZXBwvn8A2S"
      },
      "source": [
        "12. The function zip(list1, list2) returns a list of tuples, where the i-th tuple contains the i-th element from each of the argument lists. Use the zip function to create the following list of tuples: <br>\n",
        "```\n",
        "zipped = [('Parking', -1), ('Shops',0), ('Food Court',1), ('Offices',2)]\n",
        "```"
      ]
    },
    {
      "cell_type": "code",
      "source": [
        "list1 = ['Parking', 'Shops', 'Food Court', 'Offices']\n",
        "list2 = [-1, 0, 1, 2]\n",
        "\n",
        "zipped = list(zip(list1, list2))\n",
        "print(zipped)"
      ],
      "metadata": {
        "id": "CnXfu-pvLlVY",
        "outputId": "ef6d8140-fbaf-464f-b0e9-ca4638ce9222",
        "colab": {
          "base_uri": "https://localhost:8080/"
        }
      },
      "execution_count": 30,
      "outputs": [
        {
          "output_type": "stream",
          "name": "stdout",
          "text": [
            "[('Parking', -1), ('Shops', 0), ('Food Court', 1), ('Offices', 2)]\n"
          ]
        }
      ]
    },
    {
      "cell_type": "markdown",
      "metadata": {
        "id": "I25Wddbt8A2U"
      },
      "source": [
        "13. Use the zip function and dict() to create a dictionary, elevator_dict, where the keys are the floor types and the values are the corresponding floor number so that:<br>\n",
        "```\n",
        "elevator_dict[-1] = 'Parking'\n",
        "```"
      ]
    },
    {
      "cell_type": "code",
      "metadata": {
        "id": "aalDO_TQ8A2U",
        "outputId": "dd2ff555-33f6-4306-d05e-f50a81776547",
        "colab": {
          "base_uri": "https://localhost:8080/"
        }
      },
      "source": [
        "floor_types = ['Parking', 'Shops', 'Food Court', 'Offices']\n",
        "floor_numbers = [-1, 0, 1, 2]\n",
        "elevator_dict = dict(zip(floor_numbers, floor_types))\n",
        "print(elevator_dict[-1])"
      ],
      "execution_count": 33,
      "outputs": [
        {
          "output_type": "stream",
          "name": "stdout",
          "text": [
            "Parking\n"
          ]
        }
      ]
    },
    {
      "cell_type": "markdown",
      "metadata": {
        "id": "DXXKXxFv8A2V"
      },
      "source": [
        "14. Create an Elevator class. The constructor accepts the list of strings floor_types and the list of integers floor_numbers. The class implements the methods 'ask_which_floor' and 'go_to_floor'. The output of this methods should look as follows:\n",
        "```\n",
        "floor_types = ['Parking', 'Shops', 'Food Court', 'Offices']\n",
        "floors_numbers = range(-1,4)\n",
        "el = Elevator(floor_numbers, floor_types)\n",
        "el.go_to_floor(1)\n",
        "Going to Food Court floor!\n",
        "el.go_to_floor(-2)\n",
        "There is floor number -2 in this building.\n",
        "el.ask_which_floor('Offices')\n",
        "The floor Offices is the number: 2\n",
        "el.ask_which_floor('Swimming Pool')\n",
        "There is no Swimming Pool floor in this building.\n",
        "```"
      ]
    },
    {
      "cell_type": "code",
      "source": [
        "class Elevator:\n",
        "    def __init__(self, floor_numbers, floor_types):\n",
        "        self.elevator_dict = dict(zip(floor_numbers, floor_types))\n",
        "        self.reverse_dict = {floor: number for number, floor in self.elevator_dict.items()}\n",
        "\n",
        "    def go_to_floor(self, floor_number):\n",
        "        if floor_number in self.elevator_dict:\n",
        "            print(f\"Going to {self.elevator_dict[floor_number]} floor!\")\n",
        "        else:\n",
        "            print(f\"There is no floor number {floor_number} in this building.\")\n",
        "\n",
        "    def ask_which_floor(self, floor_type):\n",
        "        if floor_type in self.reverse_dict:\n",
        "            print(f\"The floor {floor_type} is the number: {self.reverse_dict[floor_type]}\")\n",
        "        else:\n",
        "            print(f\"There is no {floor_type} floor in this building.\")\n",
        "\n",
        "# Example\n",
        "floor_types = ['Parking', 'Shops', 'Food Court', 'Offices']\n",
        "floor_numbers = range(-1, 3)\n",
        "el = Elevator(floor_numbers, floor_types)\n",
        "\n",
        "el.go_to_floor(1)\n",
        "el.go_to_floor(-2)\n",
        "el.ask_which_floor('Offices')\n",
        "el.ask_which_floor('Swimming Pool')\n"
      ],
      "metadata": {
        "id": "2X7dzP8lLpT1",
        "outputId": "d4c82835-3b53-4648-dcd7-e5e3381277a7",
        "colab": {
          "base_uri": "https://localhost:8080/"
        }
      },
      "execution_count": 34,
      "outputs": [
        {
          "output_type": "stream",
          "name": "stdout",
          "text": [
            "Going to Food Court floor!\n",
            "There is no floor number -2 in this building.\n",
            "The floor Offices is the number: 2\n",
            "There is no Swimming Pool floor in this building.\n"
          ]
        }
      ]
    },
    {
      "cell_type": "markdown",
      "metadata": {
        "id": "a--gPBSR8A2Z"
      },
      "source": [
        "### Good Job!"
      ]
    }
  ]
}